{
 "cells": [
  {
   "cell_type": "code",
   "execution_count": 78,
   "metadata": {
    "collapsed": true
   },
   "outputs": [],
   "source": [
    "import urllib\n",
    "import json\n",
    "import pandas as pd\n",
    "import numpy as np"
   ]
  },
  {
   "cell_type": "code",
   "execution_count": 60,
   "metadata": {},
   "outputs": [],
   "source": [
    "# ratings = pd.read_csv(\"wine_ratings.csv\", encoding = \"utf-16\")\n",
    "# ratings_coord = ratings[[\"lat\",\"lon\",\"appell_country\"]]\n",
    "# coord = ratings_coord.values.tolist()"
   ]
  },
  {
   "cell_type": "code",
   "execution_count": 113,
   "metadata": {
    "collapsed": true
   },
   "outputs": [],
   "source": [
    "coord = [[47.332, 2.84, 'France'],\n",
    "[37.623317, -121.756267,'US'],\n",
    "[-33.313662, -71.435548, 'Chile'],\n",
    "[-41.500531, 173.786998, 'New Zealand'],\n",
    "[34.111158, -216.288460, 'US']]\n",
    "\n",
    "attr = 'ORCDRC,CLYPPT,PHIHOX,AWC,CEC,WWP,BLDFIE'\n",
    "depth = 'sl5'\n",
    "df = []"
   ]
  },
  {
   "cell_type": "code",
   "execution_count": 114,
   "metadata": {},
   "outputs": [
    {
     "name": "stdout",
     "output_type": "stream",
     "text": [
      "not found\n"
     ]
    }
   ],
   "source": [
    "for i in coord:\n",
    "    try:\n",
    "        lat = i[0]\n",
    "        lon = i[1]\n",
    "        name = i[2]\n",
    "        url = \"https://rest.soilgrids.org/query?lon=\"+str(lon)+\"&lat=\"+str(lat)+\"&attributes=\"+attr+\"&depths=\"+depth+\"\"\n",
    "        data = json.load(urllib.request.urlopen(url))\n",
    "       \n",
    "        if name == 'US':\n",
    "            iso3=('USA')\n",
    "        elif name == 'France':\n",
    "            iso3=('FRA')\n",
    "        elif name == 'Chile':\n",
    "            iso3=('CHL')\n",
    "        elif name == 'New Zealand':\n",
    "            iso3=('NZL')\n",
    "        elif name == 'Italy':\n",
    "            iso3=('ITA')\n",
    "        elif name == 'South Africa':\n",
    "            iso3=('ZAF')\n",
    "        elif name == 'Austria':\n",
    "            iso3=('AUT')\n",
    "        elif name == 'Argentina':\n",
    "            iso3=('ARG')\n",
    "        elif name == 'Spain':\n",
    "            iso3=('ESP')\n",
    "        elif name == 'Portugal':\n",
    "            iso3=('PRT')\n",
    "        elif name == 'Australia':\n",
    "            iso3=('AUS')\n",
    "        elif name == 'Romania':\n",
    "            iso3=('ROU')\n",
    "        elif name == 'Bulgaria':\n",
    "            iso3=('BGR')\n",
    "        elif name == 'Israel':\n",
    "            iso3=('ISR')\n",
    "        elif name == 'Canada':\n",
    "            iso3=('CAN')\n",
    "        elif name == 'Greece':\n",
    "            iso3=('GRC')\n",
    "        elif name == 'Slovenia':\n",
    "            iso3=('SVN')\n",
    "        elif name == 'Morocco':\n",
    "            iso3=('MAR')\n",
    "        elif name == 'Germany':\n",
    "            iso3=('DEU')\n",
    "        elif name == 'India':\n",
    "            iso3=('IND')\n",
    "        elif name == 'Uruguay':\n",
    "            iso3=('URY')\n",
    "        elif name == 'Moldova':\n",
    "            iso3=('MDA')\n",
    "        else:\n",
    "            iso3=(name + \": didn't catch\")\n",
    "            \n",
    "            \n",
    "        carbon = data['properties']['ORCDRC']['M'][depth]\n",
    "        clay = data['properties']['CLYPPT']['M'][depth]\n",
    "        ph = data['properties']['PHIHOX']['M'][depth]\n",
    "#         awc3 = data['properties']['AWCtS']['M'][depth]\n",
    "        cec = data['properties']['CECSOL']['M'][depth]\n",
    "        water = data['properties']['WWP']['M'][depth]\n",
    "        bulk = data['properties']['BLDFIE']['M'][depth]\n",
    "        date = data ['properties']['publication_date']\n",
    "        df.append({'Name':name,'Country':iso3,'Lat':lat,'Lon':lon,'Carbon':carbon,'Clay':clay,'pH':ph,\\\n",
    "                   'CatonicExchangeCapacity':cec,'Water_at_WiltingPoint':water,\\\n",
    "                   'BulkDensity':bulk,'SoilDate':date})\n",
    "    except: \n",
    "        print(\"not found\")\n",
    "        df.append({'Name':np.nan,'Country':np.nan,'Lat':np.nan,'Lon':np.nan,\\\n",
    "                   'Carbon':np.nan,'Clay':np.nan,'pH':np.nan,\\\n",
    "                   'CatonicExchangeCapacity':np.nan,'Water_at_WiltingPoint':np.nan,\\\n",
    "                   'BulkDensity':np.nan,'SoilDate':np.nan} )\n",
    "        pass\n",
    "#     datajson = json.dumps(data,indent=4, sort_keys=True) \n",
    "#     print(datajson)"
   ]
  },
  {
   "cell_type": "code",
   "execution_count": 115,
   "metadata": {},
   "outputs": [],
   "source": [
    "df = pd.DataFrame(df)\n",
    "df = df[['Name','Country','SoilDate','Lat','Lon','Carbon','CatonicExchangeCapacity','Clay','pH','Water_at_WiltingPoint','BulkDensity']]"
   ]
  },
  {
   "cell_type": "code",
   "execution_count": 116,
   "metadata": {},
   "outputs": [
    {
     "data": {
      "text/html": [
       "<div>\n",
       "<style>\n",
       "    .dataframe thead tr:only-child th {\n",
       "        text-align: right;\n",
       "    }\n",
       "\n",
       "    .dataframe thead th {\n",
       "        text-align: left;\n",
       "    }\n",
       "\n",
       "    .dataframe tbody tr th {\n",
       "        vertical-align: top;\n",
       "    }\n",
       "</style>\n",
       "<table border=\"1\" class=\"dataframe\">\n",
       "  <thead>\n",
       "    <tr style=\"text-align: right;\">\n",
       "      <th></th>\n",
       "      <th>Name</th>\n",
       "      <th>Country</th>\n",
       "      <th>SoilDate</th>\n",
       "      <th>Lat</th>\n",
       "      <th>Lon</th>\n",
       "      <th>Carbon</th>\n",
       "      <th>CatonicExchangeCapacity</th>\n",
       "      <th>Clay</th>\n",
       "      <th>pH</th>\n",
       "      <th>Water_at_WiltingPoint</th>\n",
       "      <th>BulkDensity</th>\n",
       "    </tr>\n",
       "  </thead>\n",
       "  <tbody>\n",
       "    <tr>\n",
       "      <th>0</th>\n",
       "      <td>France</td>\n",
       "      <td>FRA</td>\n",
       "      <td>12-05-2016</td>\n",
       "      <td>47.332000</td>\n",
       "      <td>2.840000</td>\n",
       "      <td>7.0</td>\n",
       "      <td>18.0</td>\n",
       "      <td>27.0</td>\n",
       "      <td>69.0</td>\n",
       "      <td>22.0</td>\n",
       "      <td>1513.0</td>\n",
       "    </tr>\n",
       "    <tr>\n",
       "      <th>1</th>\n",
       "      <td>US</td>\n",
       "      <td>USA</td>\n",
       "      <td>12-05-2016</td>\n",
       "      <td>37.623317</td>\n",
       "      <td>-121.756267</td>\n",
       "      <td>6.0</td>\n",
       "      <td>27.0</td>\n",
       "      <td>30.0</td>\n",
       "      <td>70.0</td>\n",
       "      <td>24.0</td>\n",
       "      <td>1603.0</td>\n",
       "    </tr>\n",
       "    <tr>\n",
       "      <th>2</th>\n",
       "      <td>Chile</td>\n",
       "      <td>CHL</td>\n",
       "      <td>12-05-2016</td>\n",
       "      <td>-33.313662</td>\n",
       "      <td>-71.435548</td>\n",
       "      <td>9.0</td>\n",
       "      <td>19.0</td>\n",
       "      <td>26.0</td>\n",
       "      <td>71.0</td>\n",
       "      <td>20.0</td>\n",
       "      <td>1468.0</td>\n",
       "    </tr>\n",
       "    <tr>\n",
       "      <th>3</th>\n",
       "      <td>New Zealand</td>\n",
       "      <td>NZL</td>\n",
       "      <td>12-05-2016</td>\n",
       "      <td>-41.500531</td>\n",
       "      <td>173.786998</td>\n",
       "      <td>13.0</td>\n",
       "      <td>27.0</td>\n",
       "      <td>30.0</td>\n",
       "      <td>65.0</td>\n",
       "      <td>23.0</td>\n",
       "      <td>1398.0</td>\n",
       "    </tr>\n",
       "    <tr>\n",
       "      <th>4</th>\n",
       "      <td>NaN</td>\n",
       "      <td>NaN</td>\n",
       "      <td>NaN</td>\n",
       "      <td>NaN</td>\n",
       "      <td>NaN</td>\n",
       "      <td>NaN</td>\n",
       "      <td>NaN</td>\n",
       "      <td>NaN</td>\n",
       "      <td>NaN</td>\n",
       "      <td>NaN</td>\n",
       "      <td>NaN</td>\n",
       "    </tr>\n",
       "  </tbody>\n",
       "</table>\n",
       "</div>"
      ],
      "text/plain": [
       "          Name Country    SoilDate        Lat         Lon  Carbon  \\\n",
       "0       France     FRA  12-05-2016  47.332000    2.840000     7.0   \n",
       "1           US     USA  12-05-2016  37.623317 -121.756267     6.0   \n",
       "2        Chile     CHL  12-05-2016 -33.313662  -71.435548     9.0   \n",
       "3  New Zealand     NZL  12-05-2016 -41.500531  173.786998    13.0   \n",
       "4          NaN     NaN         NaN        NaN         NaN     NaN   \n",
       "\n",
       "   CatonicExchangeCapacity  Clay    pH  Water_at_WiltingPoint  BulkDensity  \n",
       "0                     18.0  27.0  69.0                   22.0       1513.0  \n",
       "1                     27.0  30.0  70.0                   24.0       1603.0  \n",
       "2                     19.0  26.0  71.0                   20.0       1468.0  \n",
       "3                     27.0  30.0  65.0                   23.0       1398.0  \n",
       "4                      NaN   NaN   NaN                    NaN          NaN  "
      ]
     },
     "execution_count": 116,
     "metadata": {},
     "output_type": "execute_result"
    }
   ],
   "source": [
    "df.head()"
   ]
  },
  {
   "cell_type": "code",
   "execution_count": 31,
   "metadata": {
    "collapsed": true
   },
   "outputs": [],
   "source": [
    "df.to_csv(\"data.csv\", encoding='utf-16')"
   ]
  },
  {
   "cell_type": "markdown",
   "metadata": {},
   "source": [
    "You may notice that the CA desert is different from the other locations, which are prime SB growing areas. The organic carbon content isn't existant, the CEC is low, the clay is lower than the other locations, and the pH is higher. \n",
    "<br>\n",
    "#### Cation Exchange Capacity (CEC)\n",
    "Cation exchange capacity is often estimated by summing the\n",
    "major exchangeable cations (K, Ca, Mg, and Na) using units of\n",
    "cmolc\n",
    "/kg. Most laboratories do not routinely conduct a separate\n",
    "analysis for CEC, but use the ammonium acetate extractable\n",
    "levels of these elements (discussed above) for this calculation. \n",
    "<br>\n",
    "Cation exchange capacity determination is quite essential for assessing interpretation of soils data. It is most useful to indicate the potential fertility of soils. In addition, it provides an overall idea of the nature and amount of the clay minerals. Some average cation exchange capacities are:\n",
    "\n",
    "Silty soils: 35 me/100 g\n",
    "Bulk soil: 22 me/100 g\n",
    "Clayey soils: 50 me/100 g\n",
    "\n",
    "<br>\n",
    "#### Bulk density\n",
    "(fine earth fraction) in t / cubic-meter (BLDFIE)\n",
    "\n",
    "#### Volumetric water content at wilting point pF 4.2 (WWP)\n",
    "\n",
    "\n"
   ]
  },
  {
   "cell_type": "markdown",
   "metadata": {},
   "source": [
    "parameters should be set for each catergory. Ex, carbon thresholds,clay content, pH... I will continue to research the most important attributes"
   ]
  }
 ],
 "metadata": {
  "kernelspec": {
   "display_name": "Python 3",
   "language": "python",
   "name": "python3"
  },
  "language_info": {
   "codemirror_mode": {
    "name": "ipython",
    "version": 3
   },
   "file_extension": ".py",
   "mimetype": "text/x-python",
   "name": "python",
   "nbconvert_exporter": "python",
   "pygments_lexer": "ipython3",
   "version": "3.6.3"
  }
 },
 "nbformat": 4,
 "nbformat_minor": 2
}
